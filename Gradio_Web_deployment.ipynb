{
  "nbformat": 4,
  "nbformat_minor": 0,
  "metadata": {
    "colab": {
      "provenance": []
    },
    "kernelspec": {
      "name": "python3",
      "display_name": "Python 3"
    },
    "language_info": {
      "name": "python"
    }
  },
  "cells": [
    {
      "cell_type": "code",
      "source": [
        "# ===============================\n",
        "# Step 1: Mount Google Drive\n",
        "# ===============================\n",
        "from google.colab import drive\n",
        "drive.mount('/content/drive')\n",
        "\n",
        "# ===============================\n",
        "# Step 2: Imports\n",
        "# ===============================\n",
        "import gradio as gr\n",
        "import tensorflow as tf\n",
        "import numpy as np\n",
        "import xgboost as xgb\n",
        "from tensorflow.keras.applications import MobileNetV2\n",
        "from tensorflow.keras.applications.mobilenet_v2 import preprocess_input\n",
        "from tensorflow.keras.preprocessing import image\n",
        "import joblib\n",
        "from PIL import UnidentifiedImageError\n",
        "\n",
        "# ===============================\n",
        "# Step 3: Load feature extractor (same as training)\n",
        "# ===============================\n",
        "feature_extractor = MobileNetV2(weights=\"imagenet\", include_top=False, pooling=\"avg\")\n",
        "\n",
        "# ===============================\n",
        "# Step 4: Load trained XGBoost model\n",
        "# ===============================\n",
        "xgb_model = xgb.XGBClassifier()\n",
        "xgb_model.load_model(\"/content/drive/MyDrive/xgboost_hybrid_model.json\")\n",
        "\n",
        "# ===============================\n",
        "# Step 5: Define class names\n",
        "# ===============================\n",
        "class_names = [\"lung_aca\", \"lung_n\", \"lung_scc\"]\n",
        "\n",
        "# ===============================\n",
        "# Step 6: Preprocess + Predict function\n",
        "# ===============================\n",
        "def preprocess_and_predict(img):\n",
        "    try:\n",
        "        # Convert image for feature extractor\n",
        "        img = img.resize((224, 224))  # match training input size\n",
        "        img_array = image.img_to_array(img)\n",
        "        img_array = np.expand_dims(img_array, axis=0)\n",
        "        img_array = preprocess_input(img_array)\n",
        "\n",
        "        # Extract CNN features\n",
        "        features = feature_extractor.predict(img_array)\n",
        "\n",
        "        # Predict with XGBoost\n",
        "        preds = xgb_model.predict_proba(features)[0]\n",
        "\n",
        "        # Get top prediction and its confidence\n",
        "        top_pred_index = np.argmax(preds)\n",
        "        top_pred_class = class_names[top_pred_index]\n",
        "        top_confidence = float(preds[top_pred_index])\n",
        "\n",
        "        # Check if confidence is less than 70% (0.7)\n",
        "        if top_confidence < 0.7:\n",
        "            # Return all class probabilities if confidence is low\n",
        "            return dict(zip(class_names, map(float, preds)))\n",
        "        else:\n",
        "            # Otherwise, return only the top prediction and its confidence\n",
        "            return {top_pred_class: top_confidence}\n",
        "    except UnidentifiedImageError:\n",
        "        return \"Please upload a proper image.\"\n",
        "    except Exception as e:\n",
        "        return f\"An error occurred: {e}\"\n",
        "\n",
        "\n",
        "# ===============================\n",
        "# Step 7: Gradio Interface\n",
        "# ===============================\n",
        "demo = gr.Interface(\n",
        "    fn=preprocess_and_predict,\n",
        "    inputs=gr.Image(type=\"pil\"),\n",
        "    outputs=gr.Label(num_top_classes=3),\n",
        "    title=\"Lung Cancer Subtype Classifier\",\n",
        "    description=\"Upload a histopathological image to classify into: lung_aca, lung_n, or lung_scc.\",\n",
        "    flagging_mode='never' # Remove the flagging feature\n",
        ")\n",
        "\n",
        "demo.launch(share=True)"
      ],
      "metadata": {
        "id": "dIQ3VXLVMWHi",
        "outputId": "e7e069a0-1983-4566-a0f3-0e4e62b48cc9",
        "colab": {
          "base_uri": "https://localhost:8080/",
          "height": 698
        }
      },
      "execution_count": null,
      "outputs": [
        {
          "output_type": "stream",
          "name": "stdout",
          "text": [
            "Mounted at /content/drive\n"
          ]
        },
        {
          "output_type": "stream",
          "name": "stderr",
          "text": [
            "/tmp/ipython-input-2137488993.py:23: UserWarning: `input_shape` is undefined or non-square, or `rows` is not in [96, 128, 160, 192, 224]. Weights for input shape (224, 224) will be loaded as the default.\n",
            "  feature_extractor = MobileNetV2(weights=\"imagenet\", include_top=False, pooling=\"avg\")\n"
          ]
        },
        {
          "output_type": "stream",
          "name": "stdout",
          "text": [
            "Downloading data from https://storage.googleapis.com/tensorflow/keras-applications/mobilenet_v2/mobilenet_v2_weights_tf_dim_ordering_tf_kernels_1.0_224_no_top.h5\n",
            "\u001b[1m9406464/9406464\u001b[0m \u001b[32m━━━━━━━━━━━━━━━━━━━━\u001b[0m\u001b[37m\u001b[0m \u001b[1m0s\u001b[0m 0us/step\n",
            "Colab notebook detected. To show errors in colab notebook, set debug=True in launch()\n",
            "* Running on public URL: https://4d51d8ee423a3294d3.gradio.live\n",
            "\n",
            "This share link expires in 1 week. For free permanent hosting and GPU upgrades, run `gradio deploy` from the terminal in the working directory to deploy to Hugging Face Spaces (https://huggingface.co/spaces)\n"
          ]
        },
        {
          "output_type": "display_data",
          "data": {
            "text/plain": [
              "<IPython.core.display.HTML object>"
            ],
            "text/html": [
              "<div><iframe src=\"https://4d51d8ee423a3294d3.gradio.live\" width=\"100%\" height=\"500\" allow=\"autoplay; camera; microphone; clipboard-read; clipboard-write;\" frameborder=\"0\" allowfullscreen></iframe></div>"
            ]
          },
          "metadata": {}
        },
        {
          "output_type": "execute_result",
          "data": {
            "text/plain": []
          },
          "metadata": {},
          "execution_count": 1
        }
      ]
    }
  ]
}